{
 "cells": [
  {
   "cell_type": "markdown",
   "id": "ecd995b9",
   "metadata": {},
   "source": [
    "# CIP-50 Recommended Stake Pool Ranking System\n",
    "\n"
   ]
  },
  {
   "cell_type": "markdown",
   "id": "00b91f59",
   "metadata": {},
   "source": []
  },
  {
   "cell_type": "code",
   "execution_count": 21,
   "id": "7fa998a1",
   "metadata": {},
   "outputs": [],
   "source": [
    "import numpy as np\n",
    "import pandas as pd\n",
    "import bokeh as bk\n",
    "import matplotlib.pyplot as plt"
   ]
  },
  {
   "cell_type": "code",
   "execution_count": 5,
   "id": "3f66dc7c",
   "metadata": {},
   "outputs": [
    {
     "data": {
      "text/plain": [
       "0"
      ]
     },
     "execution_count": 5,
     "metadata": {},
     "output_type": "execute_result"
    }
   ],
   "source": [
    "np.min([1,0])"
   ]
  },
  {
   "cell_type": "code",
   "execution_count": 9,
   "id": "e4f5ffb1",
   "metadata": {},
   "outputs": [
    {
     "data": {
      "text/plain": [
       "array([ 0, 10,  1])"
      ]
     },
     "execution_count": 9,
     "metadata": {},
     "output_type": "execute_result"
    }
   ],
   "source": [
    "np.array([0,10,1])"
   ]
  },
  {
   "cell_type": "code",
   "execution_count": 15,
   "id": "dca53545",
   "metadata": {},
   "outputs": [
    {
     "data": {
      "text/plain": [
       "array([  0,   5,  10,  15,  20,  25,  30,  35,  40,  45,  50,  55,  60,\n",
       "        65,  70,  75,  80,  85,  90,  95, 100, 105, 110, 115, 120, 125,\n",
       "       130, 135, 140, 145, 150, 155, 160, 165, 170, 175, 180, 185, 190,\n",
       "       195, 200])"
      ]
     },
     "execution_count": 15,
     "metadata": {},
     "output_type": "execute_result"
    }
   ],
   "source": [
    "sat = np.arange(0,201,5)\n",
    "sat"
   ]
  },
  {
   "cell_type": "code",
   "execution_count": 19,
   "id": "81b293ee",
   "metadata": {},
   "outputs": [],
   "source": [
    "steps = len(sat)"
   ]
  },
  {
   "cell_type": "code",
   "execution_count": 27,
   "id": "22e2c3e5",
   "metadata": {},
   "outputs": [],
   "source": [
    "delegation = np.linspace(0,100,steps)\n",
    "delegation2 = np.linspace(0,100,steps)*2"
   ]
  },
  {
   "cell_type": "code",
   "execution_count": 34,
   "id": "ecbb502c",
   "metadata": {},
   "outputs": [
    {
     "data": {
      "text/plain": [
       "Text(0.5, 1.0, 'yeild')"
      ]
     },
     "execution_count": 34,
     "metadata": {},
     "output_type": "execute_result"
    },
    {
     "data": {
      "image/png": "[encoded data removed]",
      "text/plain": [
       "<Figure size 432x288 with 1 Axes>"
      ]
     },
     "metadata": {
      "needs_background": "light"
     },
     "output_type": "display_data"
    }
   ],
   "source": [
    "plt.plot(delegation,sat)\n",
    "plt.plot(delegation2,sat)\n",
    "plt.grid('on')\n",
    "plt.xlabel('yeild')\n",
    "plt.ylabel('yeild')\n",
    "plt.title('yeild')"
   ]
  },
  {
   "cell_type": "code",
   "execution_count": null,
   "id": "9da98644",
   "metadata": {},
   "outputs": [],
   "source": []
  },
  {
   "cell_type": "markdown",
   "id": "b8224c55",
   "metadata": {},
   "source": []
  },
  {
   "cell_type": "markdown",
   "id": "a58f5cf3",
   "metadata": {},
   "source": [
    "### pledge leverage knock-down factor\n",
    "\n",
    "$ \\frac{\\sigma}{L*\\lambda*\\frac{1}{2}} $\n",
    "\n",
    "$ \\frac{2*\\sigma}{L*\\lambda} $\n",
    "\n",
    "That is, if you pledge down payment is 50 ada, and L is 2, that's a 100 Ada cap.  If delegation is 50 Ada, to reach 50% of your pledge, pledge*L*(1/2)=50.  More delegation above 50 would exceed the pledge of 50."
   ]
  },
  {
   "cell_type": "markdown",
   "id": "b3295f56",
   "metadata": {},
   "source": []
  }
 ],
 "metadata": {
  "kernelspec": {
   "display_name": "Python 3 (ipykernel)",
   "language": "python",
   "name": "python3"
  },
  "language_info": {
   "codemirror_mode": {
    "name": "ipython",
    "version": 3
   },
   "file_extension": ".py",
   "mimetype": "text/x-python",
   "name": "python",
   "nbconvert_exporter": "python",
   "pygments_lexer": "ipython3",
   "version": "3.8.13"
  }
 },
 "nbformat": 4,
 "nbformat_minor": 5
}
