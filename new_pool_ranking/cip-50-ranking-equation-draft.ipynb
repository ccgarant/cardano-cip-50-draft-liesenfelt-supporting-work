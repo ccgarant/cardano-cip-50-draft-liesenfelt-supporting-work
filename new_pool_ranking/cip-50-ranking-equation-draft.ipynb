{
 "cells": [
  {
   "cell_type": "markdown",
   "id": "ecd995b9",
   "metadata": {},
   "source": [
    "## CIP-50 Leverage-based Pool Ranking Analysis\n",
    "CCGarant, 7/27/22, @TheStophe\n",
    "\n",
    "Supporting work for the CIP-50 leveraged-base pool ranking system, comparing Daedalus ranking to CIP-50 Ranking.\n",
    "\n",
    "\n"
   ]
  },
  {
   "cell_type": "markdown",
   "id": "00b91f59",
   "metadata": {},
   "source": [
    "### Ranking Equation\n",
    "\n",
    "The recommended ranking equation starts with a highest score of 10. The pools are down-ranked solely based on leverage and fees factors.\n",
    "\n",
    "    //equation\n",
    "    ranking_score = 10 - leverage_factor_term - fee_factor_term\n",
    "\n",
    "    //variables\n",
    "    leverage_factor_term = 10 * max{ (pool_leverage/L)^A, (pool_stake/saturation_stake)^B }\n",
    "    fee_factor_term = C * pool_fee_margin\n",
    "\n",
    "    //parameters\n",
    "    - A is 2, has range (0,10), can be tweaked\n",
    "    - B is 2, has range (0,10), can be tweaked\n",
    "    - pool_leverage = delegation / pledge\n",
    "    - pool_stake = pledge + delegation\n",
    "    - saturation_stake = pool_size soft-cap (e.g., 68M Ada based on k-parameter)\n",
    "    - C is 50, has range (0-100) ish to be harsh, can be tweaked\n",
    "    - pool_fee_margin is in range (0-100)% (fixed fee + margin combined)\n",
    "\n",
    "To evaluate rank using the current reward scheme:\n",
    "\n",
    "    //current reward scheme only\n",
    "    ranking_score = 10 - leverage_factor_term - fee_factor_term - fixed_fee_factor\n",
    "\n",
    "    //variables\n",
    "    //if fee = minFee, term drops out\n",
    "    //if fee > minFee, term nonzero but loses relevance w/stake\n",
    "    //fixed fee maters less to rewards as stake grows, so to here\n",
    "    fixed_fee_factor = D * (fee-minFee) / stake \n",
    "\n",
    "    //parameters\n",
    "    - D is 50, has range (0,100), can be tweaked\n",
    "    - fee cannot be less than minFee"
   ]
  },
  {
   "cell_type": "markdown",
   "id": "33cc5a94",
   "metadata": {},
   "source": [
    "### Ranking System\n",
    "\n",
    "The pool ranking system will be a descending sorted list of ranking scores, with the highest score at the top:\n",
    "\n",
    "    ranking = sort(ranking_score, order=descending)\n",
    "\n",
    "The ranking score is intentionally simple and familiar. Pools will be ranked out of a score of 0-10, and \"Graded\" for ease per below. There can be many pools having the same ranking score.  All wallets should make transparent the knock-down factors that drove the pool's score.\n",
    "\n",
    "| Grade | Score |\n",
    "| --- | --- |\n",
    "| A | 10-9 |\n",
    "| B | 8-7 |\n",
    "| C | 6-5 |\n",
    "| D | 4-3 |\n",
    "| F | 2-0 |"
   ]
  },
  {
   "cell_type": "code",
   "execution_count": 21,
   "id": "7fa998a1",
   "metadata": {},
   "outputs": [],
   "source": [
    "import numpy as np\n",
    "import pandas as pd\n",
    "import bokeh as bk\n",
    "import matplotlib.pyplot as plt"
   ]
  },
  {
   "cell_type": "markdown",
   "id": "b3295f56",
   "metadata": {},
   "source": []
  },
  {
   "cell_type": "markdown",
   "id": "f8c53632",
   "metadata": {},
   "source": [
    "## Other Ranking Systems\n",
    "\n",
    "- Adapools.org: [https://github.com/cexplorer/cexplorer.io/blob/main/doc/ranking.md](https://github.com/cexplorer/cexplorer.io/blob/main/doc/ranking.md)"
   ]
  },
  {
   "cell_type": "markdown",
   "id": "92b035e0",
   "metadata": {},
   "source": []
  }
 ],
 "metadata": {
  "kernelspec": {
   "display_name": "Python 3 (ipykernel)",
   "language": "python",
   "name": "python3"
  },
  "language_info": {
   "codemirror_mode": {
    "name": "ipython",
    "version": 3
   },
   "file_extension": ".py",
   "mimetype": "text/x-python",
   "name": "python",
   "nbconvert_exporter": "python",
   "pygments_lexer": "ipython3",
   "version": "3.8.13"
  }
 },
 "nbformat": 4,
 "nbformat_minor": 5
}
