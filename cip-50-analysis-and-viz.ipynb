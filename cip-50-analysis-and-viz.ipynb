{
 "cells": [
  {
   "cell_type": "markdown",
   "id": "90b7e913",
   "metadata": {},
   "source": [
    "# CIP-50 Data Analysis and Visualization\n",
    "CIP-50 | Liesenfelt-Shelleys_Voltaire_decentralization_update Notebook\n",
    "\n",
    "Author of CIP: Michael Liensenfelt | [github](https://github.com/michael-liesenfelt) | [twitter](https://twitter.com/DrLiesenfelt)\n",
    "\n",
    "DataViz: Christophe Garant | [github](https://github.com/ccgarant) | [twitter](https://twitter.com/TheStophe)\n",
    "\n",
    "Date: April 2022\n",
    "\n",
    "Ref:\n",
    "1. [CIP-0050? | Liesenfelt Shelleys Voltaire decentralization update](https://github.com/cardano-foundation/CIPs/pull/242)\n",
    "2. [CIP-0050? | Liesenfelt Shelleys Voltaire decentralization update FULL VERSION](https://github.com/michael-liesenfelt/CIPs/blob/CIP-Liesenfelt-Shelleys_Voltaire_decentralization_update/CIP-Liesenfelt-Shelleys_Voltaire_decentralization_update/README.md)\n",
    "3. [Cardano Foundations - Cardano Improvement Proposals (CIPs)](https://github.com/cardano-foundation/CIPs)\n",
    "4. [Garant cip-50 supporting work](https://github.com/ccgarant/cardano-cip-50-draft-liesenfelt-supporting-work)\n",
    "5. [Design Spec for Delegations and Incentives in Cardano, IOG, July 2020](https://hydra.iohk.io/build/13099669/download/1/delegation_design_spec.pdf)\n",
    "6. [Reward Sharing Schemes for Stake Pools, Brunjes et al., June 2020](https://arxiv.org/ftp/arxiv/papers/1807/1807.11218.pdf)"
   ]
  },
  {
   "cell_type": "code",
   "execution_count": 1,
   "id": "acfb03ef",
   "metadata": {},
   "outputs": [],
   "source": [
    "# imports\n",
    "import pandas as pd\n",
    "import numpy as np\n",
    "import matplotlib.pyplot as plt"
   ]
  },
  {
   "cell_type": "markdown",
   "id": "b0f63177",
   "metadata": {},
   "source": [
    "## Definitions\n",
    "\n",
    "- $R$ - The total available reward per pool per epoch (in ada).\n",
    "- $k$ - [0,inf) The desired number of pools\n",
    "- $a_0$ - [0,inf) The influence of stake pledged by the owners should have on the desirability of the pool. Small values of a0 indicate little influence.\n",
    "- $\\rho$ - [0,1] Rho is the monetary expansion rate, determining the fraction of still available ada that will be created per epoch.\n",
    "- $\\tau$ - [0,1] Tau is the fraction of rewards going to the treasury.\n",
    "- $\\eta$ - Eta is the ratio between the number of blocks produced vs expected in an epoch (i.e. missed blocks lower eta)\n",
    "- $T_{\\infty}$ - The maximal amount of ada to ever be in circulation ($45*10^9$ Ada)\n",
    "- $T$ - The amount of ada in circulation at the beginning of the epoch for which we want to calculate the rewards pot.\n",
    "- $fees$ - The transaction fees (tx) in an epoch\n",
    "- _active stake_ - The amount of stake delgated to active pools.  \n",
    "- _total stake_ - The total supply of ada, with a % not delegated or in dead pools.\n",
    "\n",
    "#### Stake Pool Parameters\n",
    "- $costs, c$ (minFee) - (340+) minimum fee cost for a pool mining a block (min 340 ada)\n",
    "- $margin, m, \\pi$  - (0,1] the pool operator margin or percent % taken from block mining rewards off the top before delegators.\n",
    "- $pledge, \\lambda, s$ - the relative stake of the pool owners, or the amount of ada pledged during pool registration.\n",
    "- $sigma, \\sigma$ - [0,1] the relative stake of the pool, total stake of the pool, relative to the _total stake_, not the active stake. \n",
    "    - note: includes the stake s, pledge, or lambda pledged by the pool owners\n",
    "\n",
    "For instance, if the total supply of ada is T = 31,000,000,000 and the pool owners pledge (s, lambda) is 15,500,000, and the pool attracts 15,500,000 of ada delegation from pool members, then:\n",
    "\n",
    "$$ \\beta = \\frac{1}{k} = 1/500 = 0.002 $$\n",
    "$$ \\lambda = \\frac{15,500,000}{31,000,000,000} = 0.0005 $$\n",
    "$$ \\sigma = \\frac{15,500,000 + 15,500,000}{31,000,000,000} = 0.001 $$\n",
    "\n",
    "#### Monetary Expansion\n",
    "The monetary expansion is the expanding circulating supply of ada in a given epoch. Since cardano is based on a fixed total supply, every new epoch issues less new ada, a depreciating new amount issued, just like bitcoin.\n",
    "\n",
    "$$ \\min(\\eta,1)*\\rho*(T_\\infty-T) $$\n"
   ]
  },
  {
   "cell_type": "markdown",
   "id": "a3f52dc1",
   "metadata": {},
   "source": [
    "## Current Reward Formula Exploration\n",
    "- with sliders to interactively explore\n",
    "- static examples from cip50 as guided exploration\n",
    "\n",
    "References:\n",
    "Using the terminology from [Ref (6)](https://arxiv.org/ftp/arxiv/papers/1807/1807.11218.pdf) Reward Sharing Scheme (RSS) Section 4.1 Our RSS construction, and referencing [Ref (5)](https://hydra.iohk.io/build/13099669/download/1/delegation_design_spec.pdf) delegation_design_spec from IOG, Section 5 Design of Incentives (Specifically 5.5.3 Pool Rewards)\n",
    "\n",
    "### Formula\n",
    "The total available rewards per pool per epoch, R, is given by\n",
    "\n",
    "$$ R = (reserve*\\rho+fees)(1-\\tau) $$\n",
    "\n",
    "The reward sharing scheme formula, r, is given by (i.e. rewards per pool)\n",
    "\n",
    "$$ r_k(\\sigma,\\lambda) = \\frac{R}{1+\\alpha} * (\\sigma'+\\lambda'*\\alpha*\\frac{\\sigma' - \\lambda'*\\frac{1-\\sigma'}{\\beta}}{\\beta}) $$\n",
    "\n",
    "Where:\n",
    "- $R$ is the total rewards per epoch\n",
    "- $\\alpha=a_0$ (0,inf] is the influence of stake pledged by the owners should have (fixed parameter)\n",
    "- $k$ is the target number of stake pools in the system\n",
    "- $\\sigma' = min\\{\\sigma,\\beta\\}$, where $\\sigma$ is the total relative stake of the pool to total stake (includes pledge amount)\n",
    "- $\\lambda' = min\\{\\lambda,\\beta\\}$, where $\\lambda$ is the pool operator pledge stake relative to the total stake.\n",
    "- $\\beta=\\frac{1}{k}$ where k is the target number of pools (fixed parameter)\n",
    "\n",
    "Plugging everything in results in the long form:\n",
    "\n",
    "$$ r(\\sigma,\\lambda) = R*\\frac{1}{1+\\alpha}*\\bigg(min\\{\\sigma,\\frac{1}{k}\\}+min\\{\\lambda,\\frac{1}{k}\\}*\\alpha*\\frac{min\\{\\sigma,\\frac{1}{k}\\}+min\\{\\lambda,\\frac{1}{k}\\}*(1-min\\{\\sigma,\\frac{1}{k}\\}/(\\frac{1}{k}))}{(\\frac{1}{k})}\\bigg) $$\n",
    "\n",
    "From Ref (6) Definition 5, Desirability and Potential Profit, the potential profit P of a saturated pool with allocated pool leader stake $\\lambda$ and cost $c$ is $P(\\lambda,c)=r(\\beta,\\lambda)-c$\n",
    "\n",
    "Current Parameters:\n",
    "- k = 500\n",
    "- $\\alpha$ = a0 = 0.3\n",
    "- R = 1 for simplicity, r will be a % of the total R rewards\n",
    "- $costs$ = 340 (or minFee, c) the minimum cost fee for pools\n",
    "- T = ~34B ada circulating supply per coinmarketcap, epoch 334. \n",
    "- Staked = 23B / 34B per pooltool.io (22.06 billion staked) (23B/34B ada staked/circulating supply)\n",
    "- $margin$ = 0,(or m) assume 0% margin for now on the stake pool (% cut of rewards after costs $c$ per block mined)\n",
    "- $pledge$ = 10k ada, stake pool pledge amount."
   ]
  },
  {
   "cell_type": "code",
   "execution_count": 23,
   "id": "5229ad65",
   "metadata": {},
   "outputs": [],
   "source": [
    "# parameters\n",
    "k = 500      \n",
    "alpha = 0.3       #a0\n",
    "R = 1\n",
    "\n",
    "# static pool parameters\n",
    "costs = 340                   #c, pool costs (min 340 per block)\n",
    "margin = 0                    #[%] pool margin\n",
    "pledge = 10_000               #pool pledge\n",
    "T_inf = 45*10**9              #45*10^9 total max supply\n",
    "T = 34*10**9                  #total circulating supply\n",
    "active_stake = 23*10**9       #percent of circulating supply in active stake pools (some in deap pools, or not staked)\n",
    "total_stake = T               #circulating supply\n",
    "\n",
    "# dynamic pool params\n",
    "stake = np.int(1)              #[int] place holder type \n",
    "\n",
    "# setup equations\n",
    "beta = 1/k                                           #0.002 (fixed param)\n",
    "stake = 1                                            #[ada] place holder, (dynamic param)\n",
    "pool_stake_saturation_limit = total_stake*(1/k)      #about 68M ada, which is correct per adapools.org\n",
    "\n",
    "sigma_stake = stake/total_stake                      #[%] total stake pool stake relative to total_stake, including pledge lambda\n",
    "lam_da_stake = pledge/total_stake                    #[%] lambda, but can use that word because it's a built in function\n",
    "\n",
    "sigma_prime = np.min([sigma_stake,beta])             #lowest between sigma_stake (%) and beta (1/k) (%)\n",
    "lam_da_prime = np.min([lam_da_stake,beta])           #lowest between lambda_stake (%) and beta (1/k) (%)"
   ]
  },
  {
   "cell_type": "code",
   "execution_count": null,
   "id": "8bac6455",
   "metadata": {},
   "outputs": [],
   "source": []
  },
  {
   "cell_type": "markdown",
   "id": "c4bcbbda",
   "metadata": {},
   "source": []
  },
  {
   "cell_type": "code",
   "execution_count": null,
   "id": "44f470b2",
   "metadata": {},
   "outputs": [],
   "source": []
  },
  {
   "cell_type": "markdown",
   "id": "9b1749aa",
   "metadata": {},
   "source": [
    "## New Reward Formula Exploration\n",
    "- with sliders to interactively explore\n",
    "- static examples from cip50 as guided exploration"
   ]
  },
  {
   "cell_type": "markdown",
   "id": "7e6c466e",
   "metadata": {},
   "source": [
    "## Stake Pools Landscape\n",
    "Compare contrast individual stake pool then grouped stake pools to highlight k-effective\n",
    "- delegation amount total bar graph (see big tail)\n",
    "\t- color code top 500? top k-effective? top Nakamoto coefficient?\n",
    "- stake vs leverage\n",
    "\t- color code top 500? color code for groups? sSPO alliances?\n",
    "\t- prove point of small mSPO vs big private pools.\n",
    "- time history of stake pools and sizes video (ref: https://youtu.be/hVimVzgtD6w?t=706)"
   ]
  },
  {
   "cell_type": "markdown",
   "id": "c0dbd0fa",
   "metadata": {},
   "source": [
    "## Private vs Public Stake Pools\n",
    "- what % are private vs public\n",
    "- what do they look like, a0 and k?"
   ]
  },
  {
   "cell_type": "markdown",
   "id": "2de5dd5e",
   "metadata": {},
   "source": [
    "## Computational Efficiency\n",
    " - compare contrast current vs proposed timeit w/ stress test."
   ]
  },
  {
   "cell_type": "markdown",
   "id": "660b24b0",
   "metadata": {},
   "source": []
  }
 ],
 "metadata": {
  "kernelspec": {
   "display_name": "Python 3 (ipykernel)",
   "language": "python",
   "name": "python3"
  },
  "language_info": {
   "codemirror_mode": {
    "name": "ipython",
    "version": 3
   },
   "file_extension": ".py",
   "mimetype": "text/x-python",
   "name": "python",
   "nbconvert_exporter": "python",
   "pygments_lexer": "ipython3",
   "version": "3.8.5"
  }
 },
 "nbformat": 4,
 "nbformat_minor": 5
}
