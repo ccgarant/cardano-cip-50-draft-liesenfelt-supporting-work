{
 "cells": [
  {
   "cell_type": "markdown",
   "id": "90b7e913",
   "metadata": {},
   "source": [
    "# CIP-50 Data Analysis and Visualization\n",
    "CIP-50 | Liesenfelt-Shelleys_Voltaire_decentralization_update Notebook\n",
    "\n",
    "Author of CIP: Michael Liensenfelt | [github](https://github.com/michael-liesenfelt) | [twitter](https://twitter.com/DrLiesenfelt)\n",
    "\n",
    "DataViz: Christophe Garant | [github](https://github.com/ccgarant) | [twitter](https://twitter.com/TheStophe)\n",
    "\n",
    "Date: April 2022\n",
    "\n",
    "Ref:\n",
    "- [CIP-0050? | Liesenfelt Shelleys Voltaire decentralization update](https://github.com/cardano-foundation/CIPs/pull/242)\n",
    "- [CIP-0050? | Liesenfelt Shelleys Voltaire decentralization update FULL VERSION](https://github.com/michael-liesenfelt/CIPs/blob/CIP-Liesenfelt-Shelleys_Voltaire_decentralization_update/CIP-Liesenfelt-Shelleys_Voltaire_decentralization_update/README.md)\n",
    "- [Cardano Foundations - Cardano Improvement Proposals (CIPs)](https://github.com/cardano-foundation/CIPs)\n",
    "- [Garant cip-50 supporting work](https://github.com/ccgarant/cardano-cip-50-draft-liesenfelt-supporting-work)"
   ]
  },
  {
   "cell_type": "code",
   "execution_count": 1,
   "id": "acfb03ef",
   "metadata": {},
   "outputs": [],
   "source": [
    "# imports\n",
    "import pandas as pd\n",
    "import numpy as np\n",
    "import matplotlib.pyplot as plt"
   ]
  },
  {
   "cell_type": "markdown",
   "id": "a3f52dc1",
   "metadata": {},
   "source": [
    "## Current Reward Formula Exploration\n",
    "- with sliders to interactively explore\n",
    "- static examples from cip50 as guided exploration"
   ]
  },
  {
   "cell_type": "code",
   "execution_count": null,
   "id": "44f470b2",
   "metadata": {},
   "outputs": [],
   "source": []
  },
  {
   "cell_type": "markdown",
   "id": "9b1749aa",
   "metadata": {},
   "source": [
    "## New Reward Formula Exploration\n",
    "- with sliders to interactively explore\n",
    "- static examples from cip50 as guided exploration"
   ]
  },
  {
   "cell_type": "markdown",
   "id": "7e6c466e",
   "metadata": {},
   "source": [
    "## Stake Pools Landscape\n",
    "Compare contrast individual stake pool then grouped stake pools to highlight k-effective\n",
    "- delegation amount total bar graph (see big tail)\n",
    "\t- color code top 500? top k-effective? top Nakamoto coefficient?\n",
    "- stake vs leverage\n",
    "\t- color code top 500? color code for groups? sSPO alliances?\n",
    "\t- prove point of small mSPO vs big private pools.\n",
    "- time history of stake pools and sizes video (ref: https://youtu.be/hVimVzgtD6w?t=706)"
   ]
  },
  {
   "cell_type": "markdown",
   "id": "c0dbd0fa",
   "metadata": {},
   "source": [
    "## Private vs Public Stake Pools\n",
    "- what % are private vs public\n",
    "- what do they look like, a0 and k?"
   ]
  },
  {
   "cell_type": "markdown",
   "id": "2de5dd5e",
   "metadata": {},
   "source": [
    "## Computational Efficiency\n",
    " - compare contrast current vs proposed timeit w/ stress test."
   ]
  },
  {
   "cell_type": "markdown",
   "id": "660b24b0",
   "metadata": {},
   "source": []
  }
 ],
 "metadata": {
  "kernelspec": {
   "display_name": "Python 3 (ipykernel)",
   "language": "python",
   "name": "python3"
  },
  "language_info": {
   "codemirror_mode": {
    "name": "ipython",
    "version": 3
   },
   "file_extension": ".py",
   "mimetype": "text/x-python",
   "name": "python",
   "nbconvert_exporter": "python",
   "pygments_lexer": "ipython3",
   "version": "3.8.5"
  }
 },
 "nbformat": 4,
 "nbformat_minor": 5
}
