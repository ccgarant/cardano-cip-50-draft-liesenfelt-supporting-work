{
 "cells": [
  {
   "cell_type": "markdown",
   "id": "90b7e913",
   "metadata": {},
   "source": [
    "# CIP-50 Data Analysis and Visualization\n",
    "CIP-50 | Liesenfelt-Shelleys_Voltaire_decentralization_update Notebook\n",
    "\n",
    "Author of CIP: Michael Liensenfelt | [github](https://github.com/michael-liesenfelt) | [twitter](https://twitter.com/DrLiesenfelt)\n",
    "\n",
    "DataViz: Christophe Garant | [github](https://github.com/ccgarant) | [twitter](https://twitter.com/TheStophe)\n",
    "\n",
    "Date: April 2022\n",
    "\n",
    "Ref:\n",
    "1. [CIP-0050? | Liesenfelt Shelleys Voltaire decentralization update](https://github.com/cardano-foundation/CIPs/pull/242)\n",
    "2. [CIP-0050? | Liesenfelt Shelleys Voltaire decentralization update FULL VERSION](https://github.com/michael-liesenfelt/CIPs/blob/CIP-Liesenfelt-Shelleys_Voltaire_decentralization_update/CIP-Liesenfelt-Shelleys_Voltaire_decentralization_update/README.md)\n",
    "3. [Cardano Foundations - Cardano Improvement Proposals (CIPs)](https://github.com/cardano-foundation/CIPs)\n",
    "4. [Garant cip-50 supporting work](https://github.com/ccgarant/cardano-cip-50-draft-liesenfelt-supporting-work)\n",
    "5. [Design Spec for Delegations and Incentives in Cardano, IOG, July 2020](https://hydra.iohk.io/build/13099669/download/1/delegation_design_spec.pdf)\n",
    "6. [Reward Sharing Schemes for Stake Pools, Brunjes et al., June 2020](https://arxiv.org/ftp/arxiv/papers/1807/1807.11218.pdf)"
   ]
  },
  {
   "cell_type": "code",
   "execution_count": 1,
   "id": "acfb03ef",
   "metadata": {},
   "outputs": [],
   "source": [
    "# imports\n",
    "import pandas as pd\n",
    "import numpy as np\n",
    "import matplotlib.pyplot as plt"
   ]
  },
  {
   "cell_type": "markdown",
   "id": "a3f52dc1",
   "metadata": {},
   "source": [
    "## Current Reward Formula Exploration\n",
    "- with sliders to interactively explore\n",
    "- static examples from cip50 as guided exploration\n",
    "\n",
    "References:\n",
    "Using the terminology from [Ref (6)](https://arxiv.org/ftp/arxiv/papers/1807/1807.11218.pdf) Reward Sharing Scheme (RSS) Section 4.1 Our RSS construction, and referencing [Ref (5)](https://hydra.iohk.io/build/13099669/download/1/delegation_design_spec.pdf) delegation_design_spec from IOG, Section 5 Design of Incentives (Specifically 5.5.3 Pool Rewards)\n",
    "\n",
    "### Formula\n",
    "The total rewards per epoch, R, is given by\n",
    "\n",
    "$$ R = (reserve*\\rho+fees)(1-\\tau) $$\n",
    "\n",
    "The reward sharing scheme formula, r, is given by (i.e. rewards per pool)\n",
    "\n",
    "$$ r_k(\\sigma,\\lambda) = \\frac{R}{1+\\alpha} * (\\sigma'+\\lambda'*\\alpha*\\frac{\\sigma' - \\lambda'*\\frac{1-\\sigma'}{\\beta}}{\\beta}) $$\n",
    "\n",
    "Where:\n",
    "- $R$\n",
    "- $\\sigma'$\n",
    "- $\\lambda'$\n",
    "- $\\alpha$\n",
    "- \n",
    "\n",
    "\n",
    "### Definitions\n",
    "\n",
    "$R$ - The total available rewards for the epoch (in ada).\n",
    "\n",
    "$k$ - [0,inf) The desired number of pools\n",
    "\n",
    "$a_0$ - [0,inf) The influence the stake pledged by the owners should have on the desirability of the pool. Small values of a0 indicate little influence.\n",
    "\n",
    "$\\rho$ - [0,1] Rho is the monetary expansion rate, determining the fraction of still available ada that will be created per epoch.\n",
    "\n",
    "$\\tau$ - [0,1] Tau is the fraction of rewards going to the treasury.\n",
    "\n",
    "$\\eta$ - Eta is the ration between the number of blocks produced vs expected in an epoch (i.e. missed blocks lower eta)\n",
    "\n",
    "$T_{\\infty}$ - The maximal amount of ada to ever be in circulation ($45*10^9$ Ada)\n",
    "\n",
    "$T$ - The amount of ada in circulation at the beginning of the epoch for which we want to calculate the rewards pot.\n",
    "\n",
    "$fees$ - The transaction fees (tx) in an epoch\n",
    "\n",
    "Active Stake - The amount of stake delgated to active pools.  \n",
    "\n",
    "Total statke - The total supply of ada, with a % not delegated or in dead pools.\n",
    "\n",
    "#### Stake Pool Parameters\n",
    "- $costs, c$ (minFee) - (340+) minimum fee cost for a pool mining a block (min 340 ada)\n",
    "- $margin, m$  - (0,1] the pool operator margin or percent % taken from block mining rewards off the top before delegators.\n",
    "- pledge - proof of pledge to pool\n",
    "- $sigma, \\sigma$ - [0,1] the relative stake of the pool\n",
    "\n",
    "#### Monetary Expansion\n",
    "$$ \\min(\\eta,1)*\\rho*(T_\\infty-T)\n"
   ]
  },
  {
   "cell_type": "code",
   "execution_count": null,
   "id": "44f470b2",
   "metadata": {},
   "outputs": [],
   "source": []
  },
  {
   "cell_type": "markdown",
   "id": "9b1749aa",
   "metadata": {},
   "source": [
    "## New Reward Formula Exploration\n",
    "- with sliders to interactively explore\n",
    "- static examples from cip50 as guided exploration"
   ]
  },
  {
   "cell_type": "markdown",
   "id": "7e6c466e",
   "metadata": {},
   "source": [
    "## Stake Pools Landscape\n",
    "Compare contrast individual stake pool then grouped stake pools to highlight k-effective\n",
    "- delegation amount total bar graph (see big tail)\n",
    "\t- color code top 500? top k-effective? top Nakamoto coefficient?\n",
    "- stake vs leverage\n",
    "\t- color code top 500? color code for groups? sSPO alliances?\n",
    "\t- prove point of small mSPO vs big private pools.\n",
    "- time history of stake pools and sizes video (ref: https://youtu.be/hVimVzgtD6w?t=706)"
   ]
  },
  {
   "cell_type": "markdown",
   "id": "c0dbd0fa",
   "metadata": {},
   "source": [
    "## Private vs Public Stake Pools\n",
    "- what % are private vs public\n",
    "- what do they look like, a0 and k?"
   ]
  },
  {
   "cell_type": "markdown",
   "id": "2de5dd5e",
   "metadata": {},
   "source": [
    "## Computational Efficiency\n",
    " - compare contrast current vs proposed timeit w/ stress test."
   ]
  },
  {
   "cell_type": "markdown",
   "id": "660b24b0",
   "metadata": {},
   "source": []
  }
 ],
 "metadata": {
  "kernelspec": {
   "display_name": "Python 3 (ipykernel)",
   "language": "python",
   "name": "python3"
  },
  "language_info": {
   "codemirror_mode": {
    "name": "ipython",
    "version": 3
   },
   "file_extension": ".py",
   "mimetype": "text/x-python",
   "name": "python",
   "nbconvert_exporter": "python",
   "pygments_lexer": "ipython3",
   "version": "3.8.5"
  }
 },
 "nbformat": 4,
 "nbformat_minor": 5
}
