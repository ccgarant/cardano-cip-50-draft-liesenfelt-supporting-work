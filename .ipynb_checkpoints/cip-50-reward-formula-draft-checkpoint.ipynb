{
 "cells": [
  {
   "cell_type": "markdown",
   "id": "ecd995b9",
   "metadata": {},
   "source": [
    "# CIP-50 Reward Formula\n",
    "- Liesenfeld\n",
    "- Garant\n",
    "\n",
    "The recommended cip-50 reward formula."
   ]
  },
  {
   "cell_type": "markdown",
   "id": "5c498a7c",
   "metadata": {},
   "source": [
    "## Brainstorming\n",
    "\n",
    "### Carrot Factors\n",
    "- Performance (did you successfully mine all blocks elected)\n",
    "- Leverage (\n",
    "\n",
    "### Stick Factors\n",
    "- Bad Performance (any missed or dropped blocks elected)\n",
    "\n",
    "### Parameters\n",
    "- a0 - parameter for pledge leverage factor, how much is pledge (downpayment) important? Defines upper limit ceiling."
   ]
  },
  {
   "cell_type": "markdown",
   "id": "7fd1ce01",
   "metadata": {},
   "source": [
    "### Notes\n",
    "\n",
    "$$ ranking = performance * (1-fee) * (1-min(2*leverage/a0), 1.0) $$\n",
    "\n",
    "$$ Leverage = \\frac{pool\\_size}{pledge} $$\n",
    "\n",
    "**Leverage** - equation basically says, if you are less than half of the a0 pledge leverage factor, you get full credit.  Any more and it starts dragging down your score."
   ]
  },
  {
   "cell_type": "code",
   "execution_count": null,
   "id": "bbf22999",
   "metadata": {},
   "outputs": [],
   "source": []
  }
 ],
 "metadata": {
  "kernelspec": {
   "display_name": "Python 3 (ipykernel)",
   "language": "python",
   "name": "python3"
  },
  "language_info": {
   "codemirror_mode": {
    "name": "ipython",
    "version": 3
   },
   "file_extension": ".py",
   "mimetype": "text/x-python",
   "name": "python",
   "nbconvert_exporter": "python",
   "pygments_lexer": "ipython3",
   "version": "3.8.13"
  }
 },
 "nbformat": 4,
 "nbformat_minor": 5
}
