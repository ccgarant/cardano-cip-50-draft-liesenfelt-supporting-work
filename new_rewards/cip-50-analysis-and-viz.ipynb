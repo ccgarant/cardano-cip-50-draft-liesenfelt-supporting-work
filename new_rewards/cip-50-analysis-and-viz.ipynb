{
 "cells": [
  {
   "cell_type": "markdown",
   "id": "90b7e913",
   "metadata": {},
   "source": [
    "# CIP-50 Data Analysis and Visualization\n",
    "CIP-50 | Liesenfelt-Shelleys_Voltaire_decentralization_update Notebook\n",
    "\n",
    "Author of CIP: Michael Liensenfelt | [github](https://github.com/michael-liesenfelt) | [twitter](https://twitter.com/DrLiesenfelt)\n",
    "\n",
    "DataViz: Christophe Garant | [github](https://github.com/ccgarant) | [twitter](https://twitter.com/TheStophe)\n",
    "\n",
    "Date: April 2022\n",
    "\n",
    "Ref:\n",
    "1. [CIP-0050? | Liesenfelt Shelleys Voltaire decentralization update](https://github.com/cardano-foundation/CIPs/pull/242)\n",
    "2. [CIP-0050? | Liesenfelt Shelleys Voltaire decentralization update FULL VERSION](https://github.com/michael-liesenfelt/CIPs/blob/CIP-Liesenfelt-Shelleys_Voltaire_decentralization_update/CIP-Liesenfelt-Shelleys_Voltaire_decentralization_update/README.md)\n",
    "3. [Cardano Foundations - Cardano Improvement Proposals (CIPs)](https://github.com/cardano-foundation/CIPs)\n",
    "4. [Garant cip-50 supporting work](https://github.com/ccgarant/cardano-cip-50-draft-liesenfelt-supporting-work)\n",
    "5. [Design Spec for Delegations and Incentives in Cardano, IOG, July 2020](https://hydra.iohk.io/build/13099669/download/1/delegation_design_spec.pdf)\n",
    "6. [Reward Sharing Schemes for Stake Pools, Brunjes et al., June 2020](https://arxiv.org/ftp/arxiv/papers/1807/1807.11218.pdf)"
   ]
  },
  {
   "cell_type": "code",
   "execution_count": 1,
   "id": "acfb03ef",
   "metadata": {},
   "outputs": [],
   "source": [
    "# imports\n",
    "import pandas as pd\n",
    "import numpy as np\n",
    "import matplotlib.pyplot as plt"
   ]
  },
  {
   "cell_type": "markdown",
   "id": "b0f63177",
   "metadata": {},
   "source": [
    "## Definitions\n",
    "\n",
    "- $R$ - The total available reward per pool per epoch (in ada).\n",
    "- $k$ - [0,inf) The desired number of pools\n",
    "- $a_0$ - [0,inf) The influence of stake pledged by the owners should have on the desirability of the pool. Small values of a0 indicate little influence.\n",
    "- $\\rho$ - [0,1] Rho is the monetary expansion rate, determining the fraction of still available ada that will be created per epoch.\n",
    "- $\\tau$ - [0,1] Tau is the fraction of rewards going to the treasury.\n",
    "- $\\eta$ - Eta is the ratio between the number of blocks produced vs expected in an epoch (i.e. missed blocks lower eta)\n",
    "- $T_{\\infty}$ - The maximal amount of ada to ever be in circulation ($45*10^9$ Ada)\n",
    "- $T$ - The amount of ada in circulation at the beginning of the epoch for which we want to calculate the rewards pot.\n",
    "- $fees$ - The transaction fees (tx) in an epoch\n",
    "- _active stake_ - The amount of stake delgated to active pools.  \n",
    "- _total stake_ - The total supply of ada, with a % not delegated or in dead pools.\n",
    "\n",
    "#### Stake Pool Parameters\n",
    "- $costs, c$ (minFee) - (340+) minimum fee cost for a pool mining a block (min 340 ada)\n",
    "- $margin, m, \\pi$  - (0,1] the pool operator margin or percent % taken from block mining rewards off the top before delegators.\n",
    "- $pledge, \\lambda, s$ - the relative stake of the pool owners, or the amount of ada pledged during pool registration.\n",
    "- $sigma, \\sigma$ - [0,1] the relative stake of the pool, total stake of the pool, relative to the _total stake_, not the active stake. \n",
    "    - note: includes the stake s, pledge, or lambda pledged by the pool owners\n",
    "\n",
    "For instance, if the total supply of ada is T = 31,000,000,000 and the pool owners pledge (s, lambda) is 15,500,000, and the pool attracts 15,500,000 of ada delegation from pool members, then:\n",
    "\n",
    "$$ \\beta = \\frac{1}{k} = 1/500 = 0.002 $$\n",
    "$$ \\lambda = \\frac{15,500,000}{31,000,000,000} = 0.0005 $$\n",
    "$$ \\sigma = \\frac{15,500,000 + 15,500,000}{31,000,000,000} = 0.001 $$\n",
    "\n",
    "#### Monetary Expansion\n",
    "The monetary expansion is the expanding circulating supply of ada in a given epoch. Since cardano is based on a fixed total supply, every new epoch issues less new ada, a depreciating new amount issued, just like bitcoin.\n",
    "\n",
    "$$ \\min(\\eta,1)*\\rho*(T_\\infty-T) $$\n"
   ]
  },
  {
   "cell_type": "markdown",
   "id": "a3f52dc1",
   "metadata": {},
   "source": [
    "## Current Reward Formula Exploration\n",
    "- with sliders to interactively explore\n",
    "- static examples from cip50 as guided exploration\n",
    "\n",
    "References:\n",
    "Using the terminology from [Ref (6)](https://arxiv.org/ftp/arxiv/papers/1807/1807.11218.pdf) Reward Sharing Scheme (RSS) Section 4.1 Our RSS construction, and referencing [Ref (5)](https://hydra.iohk.io/build/13099669/download/1/delegation_design_spec.pdf) delegation_design_spec from IOG, Section 5 Design of Incentives (Specifically 5.5.3 Pool Rewards)\n",
    "\n",
    "### Formula\n",
    "The total available rewards per pool per epoch, R, is given by\n",
    "\n",
    "$$ R = (reserve*\\rho+fees)(1-\\tau) $$\n",
    "\n",
    "The reward sharing scheme formula, r, is given by (i.e. rewards per pool)\n",
    "\n",
    "$$ r_k(\\sigma,\\lambda) = \\frac{R}{1+\\alpha} * (\\sigma'+\\lambda'*\\alpha*\\frac{\\sigma' - \\lambda'*\\frac{1-\\sigma'}{\\beta}}{\\beta}) $$\n",
    "\n",
    "Where:\n",
    "- $R$ is the total rewards per epoch\n",
    "- $\\alpha=a_0$ (0,inf] is the influence of stake pledged by the owners should have (fixed parameter)\n",
    "- $k$ is the target number of stake pools in the system\n",
    "- $\\sigma' = min\\{\\sigma,\\beta\\}$, where $\\sigma$ is the total relative stake of the pool to total stake (includes pledge amount)\n",
    "- $\\lambda' = min\\{\\lambda,\\beta\\}$, where $\\lambda$ is the pool operator pledge stake relative to the total stake.\n",
    "- $\\beta=\\frac{1}{k}$ where k is the target number of pools (fixed parameter)\n",
    "\n",
    "Plugging everything in results in the long form:\n",
    "\n",
    "$$ r(\\sigma,\\lambda) = R*\\frac{1}{1+\\alpha}*\\bigg(min\\{\\sigma,\\frac{1}{k}\\}+min\\{\\lambda,\\frac{1}{k}\\}*\\alpha*\\frac{min\\{\\sigma,\\frac{1}{k}\\}+min\\{\\lambda,\\frac{1}{k}\\}*(1-min\\{\\sigma,\\frac{1}{k}\\}/(\\frac{1}{k}))}{(\\frac{1}{k})}\\bigg) $$\n",
    "\n",
    "From Ref (6) Definition 5, Desirability and Potential Profit, the potential profit P of a saturated pool with allocated pool leader stake $\\lambda$ and cost $c$ is $P(\\lambda,c)=r(\\beta,\\lambda)-c$\n",
    "\n",
    "Current Parameters:\n",
    "- k = 500\n",
    "- $\\alpha$ = a0 = 0.3\n",
    "- R = 1 for simplicity, r will be a % of the total R rewards\n",
    "- $costs$ = 340 (or minFee, c) the minimum cost fee for pools\n",
    "- T = ~34B ada circulating supply per coinmarketcap, epoch 334. \n",
    "- Staked = 23B / 34B per pooltool.io (22.06 billion staked) (23B/34B ada staked/circulating supply)\n",
    "- $margin$ = 0,(or m) assume 0% margin for now on the stake pool (% cut of rewards after costs $c$ per block mined)\n",
    "- $pledge$ = 10k ada, stake pool pledge amount."
   ]
  },
  {
   "cell_type": "code",
   "execution_count": 2,
   "id": "5229ad65",
   "metadata": {},
   "outputs": [],
   "source": [
    "# parameters\n",
    "k = 500      \n",
    "alpha = 0.3       #a0\n",
    "R = 1\n",
    "\n",
    "# static pool parameters\n",
    "costs = 340                   #c, pool costs (min 340 per block)\n",
    "margin = 0                    #[%] pool margin\n",
    "pledge = 10_000_000           #pool pledge\n",
    "T_inf = 45*10**9              #45*10^9 total max supply\n",
    "T = 34*10**9                  #total circulating supply\n",
    "active_stake = 23*10**9       #percent of circulating supply in active stake pools (some in deap pools, or not staked)\n",
    "total_stake = T               #circulating supply\n",
    "\n",
    "# dynamic pool params\n",
    "stake = np.int8(1)              #[int] place holder type \n",
    "\n",
    "# setup equations\n",
    "beta = 1/k                                           #0.002 (fixed param)\n",
    "stake = 1                                            #[ada] place holder, (dynamic param)\n",
    "pool_stake_saturation_limit = total_stake*(1/k)      #about 68M ada, which is correct per adapools.org\n",
    "\n",
    "sigma_stake = stake/total_stake                      #[%] total stake pool stake relative to total_stake, including pledge lambda\n",
    "lam_da_stake = pledge/total_stake                    #[%] lambda, but can use that word because it's a built in function\n",
    "\n",
    "sigma_prime = np.min([sigma_stake,beta])             #lowest between sigma_stake (%) and beta (1/k) (%)\n",
    "lam_da_prime = np.min([lam_da_stake,beta])           #lowest between lambda_stake (%) and beta (1/k) (%)"
   ]
  },
  {
   "cell_type": "code",
   "execution_count": 3,
   "id": "8bac6455",
   "metadata": {},
   "outputs": [],
   "source": [
    "def rewards_current_saturation_range(k, alpha, pledge, sat_start, sat_end, total_stake):\n",
    "\n",
    "    '''\n",
    "    Function that returns the stake pool rewards given a saturation range and other pool and networks states.\n",
    "    E.g. what is my expected reward given, k, a0, pledge, and T, over 0% to 200% pool saturation.\n",
    "\n",
    "    Inputs:\n",
    "    * k - [int] number of desired stake pools in the network for decentralization\n",
    "    * alpha - [float] a0, the desired influence stake pool pledge shall have on the network. small a0 is little influence.\n",
    "    * pledge - [int,ada] lambda, stake pool operating pledge amount\n",
    "    * sat_start - [float,%] E.g. 0 %, total relative stake of the pool, starting percentage range, includes pledge. e.g. 0 for 0%\n",
    "    * sat_end - [float,%] E.g. 200 %, total relative stake of the pool, ending percentage range, includes pledge. e.g. 200 for 200%\n",
    "    * total_stake - [int,ada] the total stake, or circulating that includes active stake and ada not staked or in dead pools\n",
    "\n",
    "    Outputs:\n",
    "    * r - [%] rewards in % from 0 to max rewards range\n",
    "    * sat_range - [%] pool saturation range from sat_start to sat_end\n",
    "\n",
    "    '''\n",
    "\n",
    "    ### setup\n",
    "\n",
    "    #total rewards per epoch, set to 1 for rewards to be a percentage\n",
    "    R = 1\n",
    "\n",
    "    #beta, inverse of k ideal pools for simplicity\n",
    "    beta = 1/k      #[float] (fixed param) inverse of desired number of pools k (k=500, beta = 0.002)\n",
    "\n",
    "    #pool saturation max [float, ada] (fixed param)\n",
    "    #about 68M ada to reach max saturation, which is correct per adapools.org\n",
    "    #checked at epoch 334 total circulating stake is 34 BAda per coinmarketcap (25 April 2022)\n",
    "    #max pool size is the total stake divided by the ideal number of pools k\n",
    "    pool_stake_saturation_max = total_stake*(1/k)\n",
    "\n",
    "    #pool saturation percent range [%] (dynamic param)\n",
    "    #[%]start, stop, in increments. (stop+increment because starts at 0)\n",
    "    increment = 0.1             #[%] increment\n",
    "    sat_start = sat_start/100   #[float] convert from percent to decimal\n",
    "    sat_end = sat_end/100       #[float] convert from percent to decimal\n",
    "\n",
    "    #create saturation percent range\n",
    "    sat_range = np.arange(sat_start,sat_end+increment,increment) #[np_array] e.g. 0, 2.1, 0.1 for 0% to 200% in 10% increments\n",
    "\n",
    "    # pool saturation range in ada\n",
    "    # percent range times max ada for fraction of max pool total stake\n",
    "    sigma_stake_range = sat_range*pool_stake_saturation_max      #[float,ada] frac_ada = % * max_ada\n",
    "\n",
    "    #total stake pool stake relative to total_stake, including pledge lambda\n",
    "    sigma_stake = sigma_stake_range/total_stake      #[%, ada/ada]\n",
    "\n",
    "    #creates beta array of same length of sat_range\n",
    "    beta_array = np.repeat(beta, len(sat_range))     #[float] \n",
    "\n",
    "    #sigma prime\n",
    "    sigma_p = np.minimum(sigma_stake,beta_array)     #[%] compare two arrays and returns a new array containing the element-wise minima.\n",
    "    \n",
    "    #[%] lambda, but can use that word because it's a built in function, so lambdah\n",
    "    lamdah_stake = pledge/total_stake                #[%, ada/ada] pledge amount relative to total stake   \n",
    "\n",
    "    #lambda prime\n",
    "    lambdah_p = np.minimum(lamdah_stake,beta)        #[%] compare two numbers and return the min.\n",
    "\n",
    "    #current rewards formula, broken down into coefficients\n",
    "    A = R/(1+alpha)\n",
    "    B = sigma_p + lambdah_p*alpha/beta\n",
    "    C = (sigma_p - lambdah_p)\n",
    "    D = ((1-sigma_p)/beta)\n",
    "    r = A*(B*((C*D)))\n",
    "\n",
    "    return sat_range, sigma_stake, sigma_stake_range, beta_array, r, sigma_p, lambdah_p"
   ]
  },
  {
   "cell_type": "markdown",
   "id": "c4bcbbda",
   "metadata": {},
   "source": []
  },
  {
   "cell_type": "code",
   "execution_count": 4,
   "id": "44f470b2",
   "metadata": {},
   "outputs": [],
   "source": [
    "[sat_range, sigma_stake, sigma_stake_range, beta_array, r, sigma_p, lambdah_p] = \\\n",
    "    rewards_current_saturation_range(k,alpha,pledge,0,200,total_stake)"
   ]
  },
  {
   "cell_type": "code",
   "execution_count": 5,
   "id": "f4e178cf",
   "metadata": {},
   "outputs": [
    {
     "name": "stdout",
     "output_type": "stream",
     "text": [
      "\n",
      "beta_array:\n",
      "[0.002 0.002 0.002 0.002 0.002 0.002 0.002 0.002 0.002 0.002 0.002 0.002\n",
      " 0.002 0.002 0.002 0.002 0.002 0.002 0.002 0.002 0.002]\n",
      "\n",
      "sat_range:\n",
      "[0.  0.1 0.2 0.3 0.4 0.5 0.6 0.7 0.8 0.9 1.  1.1 1.2 1.3 1.4 1.5 1.6 1.7\n",
      " 1.8 1.9 2. ]\n",
      "\n",
      "sigma_stake_range:\n",
      "[0.000e+00 6.800e+06 1.360e+07 2.040e+07 2.720e+07 3.400e+07 4.080e+07\n",
      " 4.760e+07 5.440e+07 6.120e+07 6.800e+07 7.480e+07 8.160e+07 8.840e+07\n",
      " 9.520e+07 1.020e+08 1.088e+08 1.156e+08 1.224e+08 1.292e+08 1.360e+08]\n",
      "\n",
      "sigma_stake:\n",
      "[0.     0.0002 0.0004 0.0006 0.0008 0.001  0.0012 0.0014 0.0016 0.0018\n",
      " 0.002  0.0022 0.0024 0.0026 0.0028 0.003  0.0032 0.0034 0.0036 0.0038\n",
      " 0.004 ]\n",
      "\n",
      "sigma_p:\n",
      "[0.     0.0002 0.0004 0.0006 0.0008 0.001  0.0012 0.0014 0.0016 0.0018\n",
      " 0.002  0.002  0.002  0.002  0.002  0.002  0.002  0.002  0.002  0.002\n",
      " 0.002 ]\n",
      "\n",
      "lambdah_p:\n",
      "0.0002941176470588235\n",
      "\n",
      "current rewards:\n",
      "[-0.00499068 -0.00160394  0.00181221  0.00525774  0.00873264  0.01223689\n",
      "  0.01577046  0.01933334  0.02292552  0.02654697  0.03019767  0.03019767\n",
      "  0.03019767  0.03019767  0.03019767  0.03019767  0.03019767  0.03019767\n",
      "  0.03019767  0.03019767  0.03019767]\n",
      "\n",
      "pledge %:\n",
      "14.705882352941178\n"
     ]
    }
   ],
   "source": [
    "# test print\n",
    "print(f'\\nbeta_array:\\n{beta_array}')\n",
    "print(f'\\nsat_range:\\n{sat_range}')\n",
    "print(f'\\nsigma_stake_range:\\n{sigma_stake_range}')\n",
    "print(f'\\nsigma_stake:\\n{sigma_stake}')\n",
    "print(f'\\nsigma_p:\\n{sigma_p}')\n",
    "print(f'\\nlambdah_p:\\n{lambdah_p}')\n",
    "print(f'\\ncurrent rewards:\\n{r}')\n",
    "print(f'\\npledge %:\\n{pledge/pool_stake_saturation_limit*100}')\n",
    "\n",
    "#data dictionary dataframe\n",
    "dataDict = {\n",
    "    'sat_range':sat_range,\n",
    "    'sigma_stake_range':sigma_stake_range,\n",
    "    'sigma_stake':sigma_stake,\n",
    "    'beta_array':beta_array,\n",
    "    'sigma_p':sigma_p,\n",
    "    'r':r\n",
    "}\n",
    "\n",
    "#create dataframe\n",
    "df = pd.DataFrame(dataDict)"
   ]
  },
  {
   "cell_type": "code",
   "execution_count": 6,
   "id": "3ffbd6ee",
   "metadata": {},
   "outputs": [
    {
     "data": {
      "text/plain": [
       "<AxesSubplot:title={'center':'current rewards'}, xlabel='sat_range'>"
      ]
     },
     "execution_count": 6,
     "metadata": {},
     "output_type": "execute_result"
    },
    {
     "data": {
      "image/png": "[encoded data removed]",
      "text/plain": [
       "<Figure size 864x432 with 1 Axes>"
      ]
     },
     "metadata": {
      "needs_background": "light"
     },
     "output_type": "display_data"
    }
   ],
   "source": [
    "#plots\n",
    "df.plot('sat_range','r',grid='minor',figsize=(12,6),title='current rewards')"
   ]
  },
  {
   "cell_type": "markdown",
   "id": "9b1749aa",
   "metadata": {},
   "source": [
    "## New Reward Formula Exploration\n",
    "- with sliders to interactively explore\n",
    "- static examples from cip50 as guided exploration"
   ]
  },
  {
   "cell_type": "markdown",
   "id": "7e6c466e",
   "metadata": {},
   "source": [
    "## Stake Pools Landscape\n",
    "Compare contrast individual stake pool then grouped stake pools to highlight k-effective\n",
    "- delegation amount total bar graph (see big tail)\n",
    "\t- color code top 500? top k-effective? top Nakamoto coefficient?\n",
    "- stake vs leverage\n",
    "\t- color code top 500? color code for groups? sSPO alliances?\n",
    "\t- prove point of small mSPO vs big private pools.\n",
    "- time history of stake pools and sizes video (ref: https://youtu.be/hVimVzgtD6w?t=706)"
   ]
  },
  {
   "cell_type": "markdown",
   "id": "c0dbd0fa",
   "metadata": {},
   "source": [
    "## Private vs Public Stake Pools\n",
    "- what % are private vs public\n",
    "- what do they look like, a0 and k?"
   ]
  },
  {
   "cell_type": "markdown",
   "id": "2de5dd5e",
   "metadata": {},
   "source": [
    "## Computational Efficiency\n",
    " - compare contrast current vs proposed timeit w/ stress test."
   ]
  },
  {
   "cell_type": "markdown",
   "id": "660b24b0",
   "metadata": {},
   "source": []
  }
 ],
 "metadata": {
  "kernelspec": {
   "display_name": "Python 3 (ipykernel)",
   "language": "python",
   "name": "python3"
  },
  "language_info": {
   "codemirror_mode": {
    "name": "ipython",
    "version": 3
   },
   "file_extension": ".py",
   "mimetype": "text/x-python",
   "name": "python",
   "nbconvert_exporter": "python",
   "pygments_lexer": "ipython3",
   "version": "3.8.5"
  }
 },
 "nbformat": 4,
 "nbformat_minor": 5
}
